{
 "cells": [
  {
   "cell_type": "markdown",
   "metadata": {},
   "source": [
    "In order to successfully complete this assignment you need to participate both individually and in groups during class.   Have one of the instructors check your notebook and sign you out before leaving class. Turn in your assignment using D2L. "
   ]
  },
  {
   "cell_type": "markdown",
   "metadata": {},
   "source": [
    "---"
   ]
  },
  {
   "cell_type": "markdown",
   "metadata": {},
   "source": [
    "# ICA 10: Introduction to OpenMP \n",
    "\n",
    "<img src=\"https://upload.wikimedia.org/wikipedia/commons/thumb/f/f1/Fork_join.svg/800px-Fork_join.svg.png\" alt=\"visual model of a leader/worker parallel task breaking up to do individual work and then coming back to the main processor\">\n",
    "\n",
    "Image from: [Wikipedia](https://en.wikipedia.org/wiki/Fork%E2%80%93join_model)"
   ]
  },
  {
   "cell_type": "markdown",
   "metadata": {},
   "source": [
    "### Agenda for today's class (70 minutes)\n",
    "\n",
    "\n",
    "1. (20 minutes) [Quiz Review](#Exam-Review)\n",
    "2. (20 minutes) [Pre class assignment review](#Pre-class-assignment-review)\n",
    "3. (30 minutes) [OpenMP Code Inspection](#OpenMP-Code-Inspection)\n",
    "\n"
   ]
  },
  {
   "cell_type": "markdown",
   "metadata": {},
   "source": [
    "\n",
    "\n",
    "---\n",
    "<a name=Exam-Review></a>\n",
    "# 1. Quiz Review\n",
    "\n",
    "\n",
    "\n",
    "\n",
    "We will take 20 minutes to go over quiz feedback and discuss solutions. \n"
   ]
  },
  {
   "cell_type": "markdown",
   "metadata": {},
   "source": [
    "\n",
    "---\n",
    "<a name=Pre-class-assignment-review></a>\n",
    "# 2. Pre class assignment review\n",
    "\n",
    "\n",
    "&#9989; **<font color=red>QUESTION:</font>** Discuss with your group why we have to worry about race conditions when doing parallel computing and now when we are coding serially?"
   ]
  },
  {
   "cell_type": "markdown",
   "metadata": {},
   "source": [
    "They can make our programs non-deterministic which is almost always incorrect"
   ]
  },
  {
   "cell_type": "markdown",
   "metadata": {},
   "source": [
    "\n",
    "---\n",
    "<a name=OpenMP-Code-Inspection></a>\n",
    "# 3. OpenMP Code Inspection\n",
    "Now we are going to explore and try to learn the OpenMP syntax indirectly. Look around online and find some basic OpenMP coding exampes. Once you found some examples, try them out on the HPCC. Answer the following questions when exploring and testing the examples you found. \n",
    "\n",
    "* What is the source where you found your examples? \n",
    "* What OpenMP specific commands do you see in the Code?\n",
    "* When comparing to other examples, which commands seem common and which commands rare?\n",
    "* What do the commands seem to do? \n",
    "* Did you encounter any challenges trying to get the examples up and running on the HPCC?"
   ]
  },
  {
   "cell_type": "markdown",
   "metadata": {},
   "source": [
    "- [OpenMP.org](https://www.openmp.org/wp-content/uploads/openmp-examples-4.5.0.pdf) and [ReadtheDocs](https://curc.readthedocs.io/en/latest/programming/OpenMP-C.html)\n",
    "- `omp_set_num_threads()`, `omp_get_thread_num()`, `omp_get_num_threads()`, ` omp_get_team_num()`, `omp_init_lock()`\n",
    "- Likely due to the fact that these are examples, `omp_get_thread_num()` seems very common just to provide output showing the parallelism at play. I assume in \"the wild\" commands like `omp_init_lock()` and other lock commands would be much more common\n",
    "- They interact with the thred nums and create/interact with locks\n",
    "- Not really"
   ]
  },
  {
   "cell_type": "markdown",
   "metadata": {},
   "source": [
    "\n",
    "-----\n",
    "### Congratulations, we're done!\n",
    "\n",
    "Have one of the instructors check your notebook and sign you out before leaving class. Turn in your assignment using D2L."
   ]
  },
  {
   "cell_type": "markdown",
   "metadata": {},
   "source": [
    "Written by Dr. Dirk Colbry, Michigan State University (Updated by Dr. Nathan Haut in Spring 2025)\n",
    "<a rel=\"license\" href=\"http://creativecommons.org/licenses/by-nc/4.0/\"><img alt=\"Creative Commons License\" style=\"border-width:0\" src=\"https://i.creativecommons.org/l/by-nc/4.0/88x31.png\" /></a><br />This work is licensed under a <a rel=\"license\" href=\"http://creativecommons.org/licenses/by-nc/4.0/\">Creative Commons Attribution-NonCommercial 4.0 International License</a>."
   ]
  },
  {
   "cell_type": "markdown",
   "metadata": {},
   "source": [
    "----"
   ]
  }
 ],
 "metadata": {
  "kernelspec": {
   "display_name": "Python 3 (ipykernel)",
   "language": "python",
   "name": "python3"
  },
  "language_info": {
   "codemirror_mode": {
    "name": "ipython",
    "version": 3
   },
   "file_extension": ".py",
   "mimetype": "text/x-python",
   "name": "python",
   "nbconvert_exporter": "python",
   "pygments_lexer": "ipython3",
   "version": "3.13.1"
  }
 },
 "nbformat": 4,
 "nbformat_minor": 4
}
