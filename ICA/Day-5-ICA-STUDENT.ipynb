{
 "cells": [
  {
   "cell_type": "markdown",
   "metadata": {},
   "source": [
    "In order to successfully complete this assignment you need to participate both individually and in groups during class.   Have one of the instructors check your notebook and sign you out before leaving class."
   ]
  },
  {
   "cell_type": "markdown",
   "metadata": {},
   "source": [
    "---\n"
   ]
  },
  {
   "cell_type": "markdown",
   "metadata": {},
   "source": [
    "# In-Class Assignment: BASH\n",
    "\n",
    "\n",
    "<img alt=\"Simple logo for the bourne again shell\" src=\"https://cdn-images-1.medium.com/max/1600/1*FIjDPNm9zRO_ESbUiGmCXA.png\" width=75%>"
   ]
  },
  {
   "cell_type": "markdown",
   "metadata": {},
   "source": [
    "### Agenda for today's class (70 minutes)\n",
    "\n",
    "1. (20 minutes) [Pre class Review](#Pre-class-Review)\n",
    "2. (20 minutes) [BASH Tour](#BASH-Tour)\n",
    "3. (30 minutes) [Challenges](#Challenges)\n",
    "\n"
   ]
  },
  {
   "cell_type": "markdown",
   "metadata": {},
   "source": [
    "\n",
    "\n",
    "---\n",
    "<a name=Pre-class-Review></a>\n",
    "# 1. Pre class Review\n",
    "\n",
    "Discuss with your group and summarize the key topics learned in the PCA. "
   ]
  },
  {
   "cell_type": "markdown",
   "metadata": {},
   "source": [
    "Computing resources like XCEDE, the module system, .bashrc, and the PATH variable "
   ]
  },
  {
   "cell_type": "markdown",
   "metadata": {},
   "source": [
    "\n",
    "---\n",
    "<a name=BASH-Tour></a>\n",
    "# 2. BASH Tour\n",
    "\n",
    "\n",
    "\n",
    "&#9989; **<font color=red>QUESTION:</font>** What are the key components of a programming language?  What are the minimally useful set of commands you need to do something interesting in a programming?\n",
    "\n",
    "- Variables\n",
    "    - input arguments\n",
    "    - Return variables\n",
    "- Process IDs\n",
    "- Block code\n",
    "    - If statements\n",
    "    - Loops\n",
    "- piping and redirection\n",
    "- Common BASH Commands\n",
    "    - ls\n",
    "    - pwd \n",
    "    - find\n",
    "    - cat, more or less\n",
    "    - grep \n",
    "    - sed\n",
    "    - cut\n",
    "    - wc\n",
    " "
   ]
  },
  {
   "cell_type": "markdown",
   "metadata": {},
   "source": [
    "**<font color=red>EXAMPLE:</font>** Run the following command in the BCCD Directory. \n",
    "\n",
    "```bash\n",
    "echo $PATH | sed -e \"s/:/\\n/g\"\n",
    "```"
   ]
  },
  {
   "cell_type": "markdown",
   "metadata": {},
   "source": [
    "&#9989; **<font color=red>QUESTION:</font>** What did the above code do? "
   ]
  },
  {
   "cell_type": "markdown",
   "metadata": {},
   "source": [
    "It echoed the PATH variable and replaced all \":\"s with a newline"
   ]
  },
  {
   "cell_type": "markdown",
   "metadata": {},
   "source": [
    "**<font color=red>EXAMPLE:</font>** Run the following command in one of the BCCD Directories with a ```Makefile```. \n",
    "\n",
    "```bash\n",
    "cat Makefile | grep cd | grep MAKE | cut -d \"d\" -f2- | cut -d \";\" -f 1 | sort | uniq\n",
    "```"
   ]
  },
  {
   "cell_type": "markdown",
   "metadata": {},
   "source": [
    "&#9989; **<font color=red>QUESTION:</font>** What did the above code do? Explain each part of the code?"
   ]
  },
  {
   "cell_type": "markdown",
   "metadata": {},
   "source": [
    "It output the content of the Makefile, searched for lines containing \"cd\", searched that for lines containing \"MAKE\", print the 2nd to last fields delimited by \"d\", print the first field delimeted by \";\", sort the output, then remove repeated lines"
   ]
  },
  {
   "cell_type": "markdown",
   "metadata": {},
   "source": [
    "\n",
    "\n",
    "---\n",
    "<a name=Challenges></a>\n",
    "# 3. Challenges\n",
    "\n",
    "**<font color=red>Challenge 1:</font>**  Write a BASH script to loop though a list of usernames (ex ```./BASH/usernames.txt```) and print out any jobs each person may have running using ```squeue -l -u $USERNAME```. Hint: use the who command to find a list of active users. "
   ]
  },
  {
   "cell_type": "markdown",
   "metadata": {},
   "source": [
    "```bash\n",
    "who | cut -d \" \" -f 1 | xargs -I % sh -c \"squeue -l -u % | grep %\"\n",
    "```"
   ]
  },
  {
   "cell_type": "markdown",
   "metadata": {},
   "source": [
    "**<font color=red>Challenge 2:</font>** Write a bash script that finds all of the files in the current directory of the form slurm-#######.out and prints out only the jobid (i.e #######).  For an extra challenge, use the ```squeue``` command to check and see if the job is still running and print \"RUNNING\" or \"COMPLETE\" next to the job number."
   ]
  },
  {
   "cell_type": "markdown",
   "metadata": {},
   "source": [
    "```bash\n",
    "ids=$(ls | grep \"slurm-.*\\.out\" | awk -F'[-.]' '{print $2}');\n",
    "for id in $ids; do\n",
    "\tjobstate=$(echo $ids | xargs -I % squeue --only-job-state -j % | awk -F' ' 'NR>1 {print $2}');\n",
    "\tif [ $jobstate = \"R\" ]; then\n",
    "\t\tstate=RUNNING;\n",
    "\telse\n",
    "\t\tstate=COMPLETE;\n",
    "\tfi\n",
    "\techo $ids $state;\n",
    "done;\n",
    "```"
   ]
  },
  {
   "cell_type": "markdown",
   "metadata": {},
   "source": [
    "**<font color=red>Challenge 3:</font>** Write a script that takes a command as an input and runs the command 10 times and prints the time to the screen. For an extra challenge also print the average time."
   ]
  },
  {
   "cell_type": "markdown",
   "metadata": {},
   "source": [
    "```bash\n",
    "total=0;\n",
    "for i in seq {1..10}; do\n",
    "\truntimeString=$((time $@) 2>&1 | grep \"real\");\n",
    "\truntime=$(echo $runtimeString | cut -d ' ' -f2 | cut -d 's' -f1);\n",
    "\truntimeTotal=$(echo $runtime | awk -F'm' '{print $1*60 + $2}');\n",
    "\ttotal=$(echo \"$total + $runtimeTotal\" | bc -l);\n",
    "\techo $runtimeString;\n",
    "done;\n",
    "average=$(echo \"$total / 10\" | bc -l)\n",
    "echo average: $average\n",
    "```"
   ]
  },
  {
   "cell_type": "markdown",
   "metadata": {},
   "source": [
    "**<font color=red>Challenge 4:</font>** Write a bash script that renames all of the files in a directory with the ```out``` extension to all uppercase."
   ]
  },
  {
   "cell_type": "markdown",
   "metadata": {},
   "source": [
    "```bash\n",
    "for file in $(ls | grep *.out); do\n",
    "\tupper=$(echo $file | awk -F. '{print toupper($1)\".\"$2}');\n",
    "\tmv $file $upper;\n",
    "done;\n",
    "```"
   ]
  },
  {
   "cell_type": "markdown",
   "metadata": {},
   "source": [
    "**<font color=red>Challenge 5:</font>**  Write a bash script to start a program and make sure it only runs for 1 minute.  If the program takes longer than a minute to run it should be \"killed\" an an error message printed to the screen. For simplicity, use the ```sleep 10``` command as the \"test\" program.  For an extra challenge allow the long running command to be passed into the script as an input variable. "
   ]
  },
  {
   "cell_type": "markdown",
   "metadata": {},
   "source": [
    "```bash\n",
    "timeout 1m $@\n",
    "```"
   ]
  },
  {
   "cell_type": "markdown",
   "metadata": {},
   "source": [
    "\n",
    "\n",
    "-----\n",
    "### Congratulations, we're done!\n",
    "\n",
    "Have one of the instructors check your notebook and sign you out before leaving class. "
   ]
  },
  {
   "cell_type": "markdown",
   "metadata": {},
   "source": [
    "Written by Dr. Dirk Colbry, Michigan State University (Updated by Dr. Nathan Haut in Spring 2025)\n",
    "<a rel=\"license\" href=\"http://creativecommons.org/licenses/by-nc/4.0/\"><img alt=\"Creative Commons License\" style=\"border-width:0\" src=\"https://i.creativecommons.org/l/by-nc/4.0/88x31.png\" /></a><br />This work is licensed under a <a rel=\"license\" href=\"http://creativecommons.org/licenses/by-nc/4.0/\">Creative Commons Attribution-NonCommercial 4.0 International License</a>."
   ]
  },
  {
   "cell_type": "markdown",
   "metadata": {},
   "source": [
    "----"
   ]
  }
 ],
 "metadata": {
  "kernelspec": {
   "display_name": "Python 3 (ipykernel)",
   "language": "python",
   "name": "python3"
  },
  "language_info": {
   "codemirror_mode": {
    "name": "ipython",
    "version": 3
   },
   "file_extension": ".py",
   "mimetype": "text/x-python",
   "name": "python",
   "nbconvert_exporter": "python",
   "pygments_lexer": "ipython3",
   "version": "3.13.1"
  }
 },
 "nbformat": 4,
 "nbformat_minor": 4
}
