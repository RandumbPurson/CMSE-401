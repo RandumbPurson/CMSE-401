{
 "cells": [
  {
   "cell_type": "markdown",
   "metadata": {},
   "source": [
    "In order to successfully complete this assignment you must do the required reading, watch the provided videos and complete all instructions.  The embedded survey form must be entirely filled out and submitted on or before **_11:59pm on January 23rd_**.  Students must come to class the next day prepared to discuss the material covered in this assignment. "
   ]
  },
  {
   "cell_type": "markdown",
   "metadata": {},
   "source": [
    "---"
   ]
  },
  {
   "cell_type": "markdown",
   "metadata": {},
   "source": [
    "# PCA 5: Navigating Shared Clusters (HPC)"
   ]
  },
  {
   "cell_type": "markdown",
   "metadata": {},
   "source": [
    "# Goals for today's pre-class assignment \n",
    "\n",
    "1. [Create XSEDE Account](#Create-XSEDE-Account)\n",
    "2. [Finding software on the HPCC](#Finding-software-on-the-HPCC)\n",
    "3. [Assignment wrap up](#Assignment-wrap-up)\n",
    "\n"
   ]
  },
  {
   "cell_type": "markdown",
   "metadata": {},
   "source": [
    "\n",
    "\n",
    "---\n",
    "<a name=Create-XSEDE-Account></a>\n",
    "# 1. Create XSEDE Account\n",
    "\n",
    "\n",
    "\n",
    "<a href=\"https://www.xsede.org/\"><img alt=\"Picture of the XSEDE Logo which is just the word XSEDE on an outer space background with some molecules overlayed in the foreground. I think it is supposed to give a feeling for modern science.\" src=\"https://arc-ts.umich.edu/wp-content/uploads/sites/4/2016/03/xsedebanner.jpg\"></a>\n",
    "\n",
    "The National Science Foundation invests quite a bit of money into providing computing resources to researchers.  The Extreme Science and Engineering Discovery Environment (XSEDE) is a single virtual system that scientists can use to interactively share computing resources and expertise. Here is a short video that describes XSEDE."
   ]
  },
  {
   "cell_type": "code",
   "execution_count": 1,
   "metadata": {},
   "outputs": [
    {
     "data": {
      "image/jpeg": "[encoded data removed]",
      "text/html": [
       "\n",
       "        <iframe\n",
       "            width=\"640\"\n",
       "            height=\"360\"\n",
       "            src=\"https://www.youtube.com/embed/PBUIBJHZzD4\"\n",
       "            frameborder=\"0\"\n",
       "            allowfullscreen\n",
       "            \n",
       "        ></iframe>\n",
       "        "
      ],
      "text/plain": [
       "<IPython.lib.display.YouTubeVideo at 0x752c385f5160>"
      ]
     },
     "execution_count": 1,
     "metadata": {},
     "output_type": "execute_result"
    }
   ],
   "source": [
    "from IPython.display import YouTubeVideo\n",
    "YouTubeVideo(\"PBUIBJHZzD4\",width=640,height=360)"
   ]
  },
  {
   "cell_type": "markdown",
   "metadata": {},
   "source": [
    "This XSEDE resource has not been replaced by ACCESS. The old resource is the first link below. You can learn more about the new ACCESS resource in the second link below. \n",
    "\n",
    "https://portal.xsede.org/#/guest\n",
    "\n",
    "https://access-ci.org "
   ]
  },
  {
   "cell_type": "markdown",
   "metadata": {},
   "source": [
    "\n",
    "\n",
    "---\n",
    "<a name=Finding-software-on-the-HPCC></a>\n",
    "# 2. Finding software on the HPCC\n",
    "\n",
    "\n",
    "The following video describes the ```PATH``` environment variable and shows you how it can be changed to add software installed in a new location. \n"
   ]
  },
  {
   "cell_type": "code",
   "execution_count": null,
   "metadata": {},
   "outputs": [],
   "source": [
    "from IPython.display import YouTubeVideo\n",
    "YouTubeVideo(\"2OXvoXejZcw\",width=640,height=360)"
   ]
  },
  {
   "cell_type": "markdown",
   "metadata": {},
   "source": [
    "### Commands used in the above video\n",
    "\n",
    "```\n",
    "    ls\n",
    "    clear\n",
    "    which python\n",
    "    cd\n",
    "    env\n",
    "    echo $PATH\n",
    "    echo $PATH | sec -r \"s/:/\\\\n/g\"\n",
    "    export PATH=~/anaconda3/bin:$PATH\n",
    "    ssh dev-intel16\n",
    "    nano ~/.bashrc\n",
    "```"
   ]
  },
  {
   "cell_type": "markdown",
   "metadata": {},
   "source": [
    "&#9989; **<font color=red>QUESTION:</font>** What is the ```which``` command used for?"
   ]
  },
  {
   "cell_type": "markdown",
   "metadata": {},
   "source": [
    "Finding the executable path for a command"
   ]
  },
  {
   "cell_type": "markdown",
   "metadata": {},
   "source": [
    "&#9989; **<font color=red>QUESTION:</font>** The PATH environment variable is a set of system folders separated by a colon (:).  What command would you use to add the ```/mnt/research/mygroup/bin``` folder to the end of your path?"
   ]
  },
  {
   "cell_type": "markdown",
   "metadata": {},
   "source": [
    "`export PATH=$PATH:/mnt/research/mygroup/bin`"
   ]
  },
  {
   "cell_type": "markdown",
   "metadata": {},
   "source": [
    "The following video shows some basics on how to use the ```module``` command that is available on the HPCC. "
   ]
  },
  {
   "cell_type": "code",
   "execution_count": null,
   "metadata": {},
   "outputs": [],
   "source": [
    "from IPython.display import YouTubeVideo\n",
    "YouTubeVideo(\"lXYpQeU3j-0\",width=640,height=360)"
   ]
  },
  {
   "cell_type": "markdown",
   "metadata": {},
   "source": [
    "### Commands used in the above video\n",
    "\n",
    "```\n",
    "    ssh dev-intel16\n",
    "    clear\n",
    "    who | wc -l\n",
    "    module list\n",
    "    module spider MATLAB\n",
    "    module unload MATLAB\n",
    "    module load MATLAB/2018b\n",
    "    which matlab\n",
    "    module swap MATLAB/2018b MATLAB/2018a\n",
    "    module avail\n",
    "    module unload gnu\n",
    "    module load intel\n",
    "    module show intel\n",
    "    module purge\n",
    "```"
   ]
  },
  {
   "cell_type": "markdown",
   "metadata": {},
   "source": [
    "&#9989; **<font color=red>QUESTION:</font>** Use the ```module spider``` command to search modules.  What versions of the libpng are available on the HPCC?  (**Note**: if the modules have changed since the last time you used the ```module spider``` command it may need to rebuild it's database which can take a few seconds).  "
   ]
  },
  {
   "cell_type": "markdown",
   "metadata": {},
   "source": [
    "There are 6 different versions\n",
    "```\n",
    "libpng/1.5.30\n",
    "libpng/1.6.37-GCCcore-10.2.0\n",
    "libpng/1.6.37-GCCcore-11.3.0\n",
    "libpng/1.6.38-GCCcore-12.2.0\n",
    "libpng/1.6.39-GCCcore-12.3.0\n",
    "libpng/1.6.40-GCCcore-13.2.0\n",
    "```"
   ]
  },
  {
   "cell_type": "markdown",
   "metadata": {},
   "source": [
    "\n",
    "\n",
    "---\n",
    "<a name=Assignment-wrap-up></a>\n",
    "# 3. Assignment wrap up\n",
    "\n",
    "\n",
    "Please fill out the form that appears when you run the code below.  **You must completely fill this out in order to receive credits for the assignment!**\n",
    "\n",
    "[Direct Link to Survey Form](https://cmse.msu.edu/cmse401-pc-survey)\n"
   ]
  },
  {
   "cell_type": "markdown",
   "metadata": {},
   "source": [
    "&#9989; **<font color=red>QUESTION:</font>**  Summarize what you did in this assignment."
   ]
  },
  {
   "cell_type": "markdown",
   "metadata": {},
   "source": [
    "Learned about XSEDE as well as various ways of exploring software on the HPCC"
   ]
  },
  {
   "cell_type": "markdown",
   "metadata": {},
   "source": [
    "&#9989; **<font color=red>QUESTION:</font>**  What questions do you have, if any, about any of the topics discussed in this assignment after working through the jupyter notebook?"
   ]
  },
  {
   "cell_type": "markdown",
   "metadata": {},
   "source": []
  },
  {
   "cell_type": "markdown",
   "metadata": {},
   "source": [
    "&#9989; **<font color=red>QUESTION:</font>**  How well do you feel this assignment helped you to achieve a better understanding of the above mentioned topic(s)?"
   ]
  },
  {
   "cell_type": "markdown",
   "metadata": {},
   "source": [
    "Pretty well"
   ]
  },
  {
   "cell_type": "markdown",
   "metadata": {},
   "source": [
    "&#9989; **<font color=red>QUESTION:</font>** What was the **most** challenging part of this assignment for you? "
   ]
  },
  {
   "cell_type": "markdown",
   "metadata": {},
   "source": [
    "Appending to path"
   ]
  },
  {
   "cell_type": "markdown",
   "metadata": {},
   "source": [
    "&#9989; **<font color=red>QUESTION:</font>** What was the **least** challenging part of this assignment for you? "
   ]
  },
  {
   "cell_type": "markdown",
   "metadata": {},
   "source": [
    "Using `module spider`"
   ]
  },
  {
   "cell_type": "markdown",
   "metadata": {},
   "source": [
    "&#9989; **<font color=red>QUESTION:</font>**  What kind of additional questions or support, if any, do you feel you need to have a better understanding of the content in this assignment?"
   ]
  },
  {
   "cell_type": "markdown",
   "metadata": {},
   "source": []
  },
  {
   "cell_type": "markdown",
   "metadata": {},
   "source": [
    "&#9989; **<font color=red>QUESTION:</font>**  Do you have any further questions or comments about this material, or anything else that's going on in class?"
   ]
  },
  {
   "cell_type": "markdown",
   "metadata": {},
   "source": [
    "Put your answer to the above question here"
   ]
  },
  {
   "cell_type": "markdown",
   "metadata": {},
   "source": [
    "&#9989; **<font color=red>QUESTION:</font>** Approximately how long did this pre-class assignment take?"
   ]
  },
  {
   "cell_type": "markdown",
   "metadata": {},
   "source": [
    "<30 mins"
   ]
  },
  {
   "cell_type": "code",
   "execution_count": null,
   "metadata": {},
   "outputs": [],
   "source": [
    "from IPython.display import HTML\n",
    "HTML(\n",
    "\"\"\"\n",
    "<iframe \n",
    "\tsrc=\"https://cmse.msu.edu/cmse401-pc-survey\" \n",
    "\twidth=\"100%\" \n",
    "\theight=\"500px\" \n",
    "\tframeborder=\"0\" \n",
    "\tmarginheight=\"0\" \n",
    "\tmarginwidth=\"0\">\n",
    "\tLoading...\n",
    "</iframe>\n",
    "\"\"\"\n",
    ")"
   ]
  },
  {
   "cell_type": "markdown",
   "metadata": {},
   "source": [
    "\n",
    "\n",
    "---------\n",
    "### Congratulations, we're done!\n",
    "\n",
    "To get credit for this assignment you must fill out and submit the above survey from on or before the assignment due date."
   ]
  },
  {
   "cell_type": "markdown",
   "metadata": {},
   "source": [
    "Written by Dr. Dirk Colbry, Michigan State University (Updated by Dr. Nathan Haut in Spring 2025)\n",
    "<a rel=\"license\" href=\"http://creativecommons.org/licenses/by-nc/4.0/\"><img alt=\"Creative Commons License\" style=\"border-width:0\" src=\"https://i.creativecommons.org/l/by-nc/4.0/88x31.png\" /></a><br />This work is licensed under a <a rel=\"license\" href=\"http://creativecommons.org/licenses/by-nc/4.0/\">Creative Commons Attribution-NonCommercial 4.0 International License</a>."
   ]
  },
  {
   "cell_type": "markdown",
   "metadata": {},
   "source": [
    "----"
   ]
  },
  {
   "cell_type": "markdown",
   "metadata": {},
   "source": [
    "----"
   ]
  }
 ],
 "metadata": {
  "anaconda-cloud": {},
  "kernelspec": {
   "display_name": "Python 3 (ipykernel)",
   "language": "python",
   "name": "python3"
  },
  "language_info": {
   "codemirror_mode": {
    "name": "ipython",
    "version": 3
   },
   "file_extension": ".py",
   "mimetype": "text/x-python",
   "name": "python",
   "nbconvert_exporter": "python",
   "pygments_lexer": "ipython3",
   "version": "3.13.1"
  }
 },
 "nbformat": 4,
 "nbformat_minor": 4
}
